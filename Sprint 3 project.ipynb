{
 "cells": [
  {
   "cell_type": "markdown",
   "metadata": {},
   "source": [
    "¡Hola!<br />\n",
    "Soy **Francisco Cortés**, estoy contento de revisar tu proyecto y ser parte de tu proceso de aprendizaje.\n",
    "A lo largo del texto, haré algunas observaciones sobre mejoras en el código y también haré comentarios sobre tus percepciones sobre el tema. Si existe algún error en el código, no te preocupes, estoy aquí para ayudarte a mejorarlo, en la primera iteración te lo señalaré para que tengas la oportunidad de corregirlo, pero si aún no encuentras una solución para esta tarea, te daré una pista más precisa en la próxima iteración y también algunos ejemplos prácticos. Estaré abierto a retroalimentación y discusiones sobre el tema.<br />\n",
    "Encontrarás mis comentarios a continuación - **por favor no los muevas, modifiques o borres**.\n",
    "Revisaré cuidadosamente tu código para comprobar que se han cumplido con los requisitos y te proporcionaré mis comentarios en cajas verdes, amarillas o rojas como esta:\n",
    "\n",
    "<div class=\"alert alert-block alert-success\">\n",
    "<b>Comentario del revisor</b> <a class=\"tocSkip\"></a>\n",
    "\n",
    "Si la ejecución fue perfecta succesfully.\n",
    "</div>\n",
    "\n",
    "<div class=\"alert alert-block alert-warning\">\n",
    "<b>Comentario del revisor</b> <a class=\"tocSkip\"></a>\n",
    "\n",
    "Si existe alguna recomendación para que tu código mejore.\n",
    "</div>\n",
    "\n",
    "<div class=\"alert alert-block alert-danger\">\n",
    "\n",
    "<b>Comentario del revisor</b> <a class=\"tocSkip\"></a>\n",
    "\n",
    "Si existen correcciones necesarias para cumplir con los requisitos. El trabajo no puede ser aceptado si hay alguna caja roja.\n",
    "</div>\n",
    "\n",
    "Puedes responderme de la siguiente manera:\n",
    "\n",
    "<div class=\"alert alert-block alert-info\">\n",
    "<b>Respuesta del estudiante.</b> <a class=\"tocSkip\"></a>\n",
    "</div>\n"
   ]
  },
  {
   "cell_type": "markdown",
   "metadata": {
    "id": "E0vqbgi9ay0H"
   },
   "source": [
    "# Déjame escuchar la música"
   ]
  },
  {
   "cell_type": "markdown",
   "metadata": {
    "id": "fhq_eyov_Zcs"
   },
   "source": [
    "# Contenido <a id='back'></a>\n",
    "\n",
    "* [Introducción](#intro)\n",
    "* [Etapa 1. Descripción de los datos](#data_review)\n",
    "    * [Conclusiones](#data_review_conclusions)\n",
    "* [Etapa 2. Preprocesamiento de datos](#data_preprocessing)\n",
    "    * [2.1 Estilo del encabezado](#header_style)\n",
    "    * [2.2 Valores ausentes](#missing_values)\n",
    "    * [2.3 Duplicados](#duplicates)\n",
    "    * [2.4 Conclusiones](#data_preprocessing_conclusions)\n",
    "* [Etapa 3. Prueba de hipótesis](#hypothesis)\n",
    "    * [3.1 Hipótesis 1: actividad de los usuarios y las usuarias en las dos ciudades](#activity)\n",
    "* [Conclusiones](#end)"
   ]
  },
  {
   "cell_type": "markdown",
   "metadata": {
    "id": "VUC88oWjTJw2"
   },
   "source": [
    "## Introducción <a id='intro'></a>\n",
    "Como analista de datos, tu trabajo consiste en analizar datos para extraer información valiosa y tomar decisiones basadas en ellos. Esto implica diferentes etapas, como la descripción general de los datos, el preprocesamiento y la prueba de hipótesis.\n",
    "\n",
    "Siempre que investigamos, necesitamos formular hipótesis que después podamos probar. A veces aceptamos estas hipótesis; otras veces, las rechazamos. Para tomar las decisiones correctas, una empresa debe ser capaz de entender si está haciendo las suposiciones correctas.\n",
    "\n",
    "En este proyecto, compararás las preferencias musicales de las ciudades de Springfield y Shelbyville. Estudiarás datos reales de transmisión de música online para probar la hipótesis a continuación y comparar el comportamiento de los usuarios y las usuarias de estas dos ciudades.\n",
    "\n",
    "### Objetivo:\n",
    "Prueba la hipótesis:\n",
    "1. La actividad de los usuarios y las usuarias difiere según el día de la semana y dependiendo de la ciudad.\n",
    "\n",
    "\n",
    "### Etapas\n",
    "Los datos del comportamiento del usuario se almacenan en el archivo `/datasets/music_project_en.csv`. No hay ninguna información sobre la calidad de los datos, así que necesitarás examinarlos antes de probar la hipótesis.\n",
    "\n",
    "Primero, evaluarás la calidad de los datos y verás si los problemas son significativos. Entonces, durante el preprocesamiento de datos, tomarás en cuenta los problemas más críticos.\n",
    "\n",
    "Tu proyecto consistirá en tres etapas:\n",
    " 1. Descripción de los datos.\n",
    " 2. Preprocesamiento de datos.\n",
    " 3. Prueba de hipótesis.\n",
    "\n",
    "\n",
    "\n",
    "\n",
    "\n",
    "\n"
   ]
  },
  {
   "cell_type": "markdown",
   "metadata": {
    "id": "hDt6pg-Rw-1U"
   },
   "source": [
    "[Volver a Contenidos](#back)"
   ]
  },
  {
   "cell_type": "markdown",
   "metadata": {
    "id": "Ml1hmfXC_Zcs"
   },
   "source": [
    "## Etapa 1. Descripción de los datos <a id='data_review'></a>\n",
    "\n",
    "Abre los datos y examínalos."
   ]
  },
  {
   "cell_type": "markdown",
   "metadata": {
    "id": "57eAOGIz_Zcs"
   },
   "source": [
    "Necesitarás `pandas`, así que impórtalo."
   ]
  },
  {
   "cell_type": "code",
   "execution_count": 1,
   "metadata": {
    "id": "AXN7PHPN_Zcs"
   },
   "outputs": [],
   "source": [
    "# Importar pandas\n",
    "import pandas as pd"
   ]
  },
  {
   "cell_type": "markdown",
   "metadata": {
    "id": "SG23P8tt_Zcs"
   },
   "source": [
    "Lee el archivo `music_project_en.csv` de la carpeta `/datasets/` y guárdalo en la variable `df`:"
   ]
  },
  {
   "cell_type": "code",
   "execution_count": 2,
   "metadata": {
    "id": "fFVu7vqh_Zct"
   },
   "outputs": [],
   "source": [
    "# Leer el archivo y almacenarlo en df\n",
    "df = pd.read_csv(\"/datasets/music_project_en.csv\")"
   ]
  },
  {
   "cell_type": "markdown",
   "metadata": {
    "id": "rDoOMd3uTqnZ"
   },
   "source": [
    "Muestra las 10 primeras filas de la tabla:"
   ]
  },
  {
   "cell_type": "code",
   "execution_count": 3,
   "metadata": {
    "id": "oWTVX3gW_Zct"
   },
   "outputs": [
    {
     "name": "stdout",
     "output_type": "stream",
     "text": [
      "     userID                        Track            artist   genre  \\\n",
      "0  FFB692EC            Kamigata To Boots  The Mass Missile    rock   \n",
      "1  55204538  Delayed Because of Accident  Andreas Rönnberg    rock   \n",
      "2    20EC38            Funiculì funiculà       Mario Lanza     pop   \n",
      "3  A3DD03C9        Dragons in the Sunset        Fire + Ice    folk   \n",
      "4  E2DC1FAE                  Soul People        Space Echo   dance   \n",
      "5  842029A1                       Chains          Obladaet  rusrap   \n",
      "6  4CB90AA5                         True      Roman Messer   dance   \n",
      "7  F03E1C1F             Feeling This Way   Polina Griffith   dance   \n",
      "8  8FA1D3BE                     L’estate       Julia Dalia  ruspop   \n",
      "9  E772D5C0                    Pessimist               NaN   dance   \n",
      "\n",
      "        City        time        Day  \n",
      "0  Shelbyville  20:28:33  Wednesday  \n",
      "1  Springfield  14:07:09     Friday  \n",
      "2  Shelbyville  20:58:07  Wednesday  \n",
      "3  Shelbyville  08:37:09     Monday  \n",
      "4  Springfield  08:34:34     Monday  \n",
      "5  Shelbyville  13:09:41     Friday  \n",
      "6  Springfield  13:00:07  Wednesday  \n",
      "7  Springfield  20:47:49  Wednesday  \n",
      "8  Springfield  09:17:40     Friday  \n",
      "9  Shelbyville  21:20:49  Wednesday  \n"
     ]
    }
   ],
   "source": [
    "# Obtener las 10 primeras filas de la tabla df\n",
    "print(df.head(10))"
   ]
  },
  {
   "cell_type": "markdown",
   "metadata": {
    "id": "EO73Kwic_Zct"
   },
   "source": [
    "Obtén la información general sobre la tabla con un comando. Conoces el método que muestra la información general que necesitamos."
   ]
  },
  {
   "cell_type": "code",
   "execution_count": 4,
   "metadata": {
    "id": "DSf2kIb-_Zct"
   },
   "outputs": [
    {
     "name": "stdout",
     "output_type": "stream",
     "text": [
      "<class 'pandas.core.frame.DataFrame'>\n",
      "RangeIndex: 65079 entries, 0 to 65078\n",
      "Data columns (total 7 columns):\n",
      " #   Column    Non-Null Count  Dtype \n",
      "---  ------    --------------  ----- \n",
      " 0     userID  65079 non-null  object\n",
      " 1   Track     63736 non-null  object\n",
      " 2   artist    57512 non-null  object\n",
      " 3   genre     63881 non-null  object\n",
      " 4     City    65079 non-null  object\n",
      " 5   time      65079 non-null  object\n",
      " 6   Day       65079 non-null  object\n",
      "dtypes: object(7)\n",
      "memory usage: 3.5+ MB\n"
     ]
    }
   ],
   "source": [
    "# Obtener la información general sobre nuestros datos\n",
    "df.info()"
   ]
  },
  {
   "cell_type": "markdown",
   "metadata": {
    "id": "TaQ2Iwbr_Zct"
   },
   "source": [
    "Estas son nuestras observaciones sobre la tabla. Contiene siete columnas. Almacenan los mismos tipos de datos: `object`.\n",
    "\n",
    "Según la documentación:\n",
    "- `' userID'`: identificador del usuario o la usuaria;\n",
    "- `'Track'`: título de la canción;\n",
    "- `'artist'`: nombre del artista;\n",
    "- `'genre'`: género de la pista;\n",
    "- `'City'`: ciudad del usuario o la usuaria;\n",
    "- `'time'`: la hora exacta en la que se reprodujo la canción;\n",
    "- `'Day'`: día de la semana.\n",
    "\n",
    "Podemos ver tres problemas con el estilo en los encabezados de la tabla:\n",
    "1. Algunos encabezados están en mayúsculas, otros en minúsculas.\n",
    "2. Hay espacios en algunos encabezados.\n",
    "3. Hay columnas con valores ausentes, por ejemplo track, artist y genre. \n"
   ]
  },
  {
   "cell_type": "markdown",
   "metadata": {
    "id": "MCB6-dXG_Zct"
   },
   "source": [
    "### Escribe observaciones de tu parte. Estas son algunas de las preguntas que pueden ser útiles: <a id='data_review_conclusions'></a>\n",
    "\n",
    "`1.   ¿Qué tipo de datos tenemos a nuestra disposición en las filas? ¿Y cómo podemos entender lo que almacenan las columnas?`\n",
    "\n",
    "Todos los valores en las columnas del df son objetos, los nombres de las columnas son descriptivos pero tal vez podrían ser aún más descriptivos e intuitivos. Por ejemplo, time podríamos renombrarlo a play_time y day a play_date.\n",
    "\n",
    "`2.   ¿Hay suficientes datos para proporcionar respuestas a nuestra hipótesis o necesitamos más información?`\n",
    "Esto depende de cuántos valores ausentes hay por ciudad. Dependiendo de en que ciudad se concentran la mayoría de datos ausentes, podemos decidir cuál es la mejor manera de procesar los datos ausentes. Primero debemos hacer un análisis exploratorio de los datos para definir si es mejor excluir las filas con valores ausentes, remplazarlos con el promedio o la mediana, asì como identificar si existen valores duplicados o no.\n",
    "\n",
    "`3.   ¿Notaste algún problema en los datos, como valores ausentes, duplicados o tipos de datos incorrectos?`\n",
    "Al menos en las 10 primeras filas no vemos usuarios (userID) duplicados, pero podrìa ser que aparezcan registros de diferentes canciones para el mismo ID de usuario. Es natural y esperado que encontremos valores duplicados en city puesto que únicamente manejamos 2 ciudades en el Data Frame. Si vemos que existen valores ausentes Nan en alguna de las columnas, por lo que valdría la pena revisar el df en busca de valores ausentes."
   ]
  },
  {
   "cell_type": "markdown",
   "metadata": {},
   "source": [
    "<div class=\"alert alert-block alert-success\">\n",
    "<b>Comentario del revisor</b> <a class=\"tocSkip\"></a><br />\n",
    "Correcto, buena manera de leer los datos y buenas observaciones iniciales, me parece correcto el modo en que describes la información y planteas los problemas y como se pudieran cambiar.\n",
    "</div>\n"
   ]
  },
  {
   "cell_type": "markdown",
   "metadata": {
    "id": "3eL__vcwViOi"
   },
   "source": [
    "[Volver a Contenidos](#back)"
   ]
  },
  {
   "cell_type": "markdown",
   "metadata": {
    "id": "SjYF6Ub9_Zct"
   },
   "source": [
    "## Etapa 2. Preprocesamiento de datos <a id='data_preprocessing'></a>\n",
    "\n",
    "El objetivo aquí es preparar los datos para que sean analizados.\n",
    "El primer paso es resolver cualquier problema con los encabezados. Luego podemos avanzar a los valores ausentes y duplicados. Empecemos.\n",
    "\n",
    "Corrige el formato en los encabezados de la tabla.\n"
   ]
  },
  {
   "cell_type": "markdown",
   "metadata": {
    "id": "dIaKXr29_Zct"
   },
   "source": [
    "### Estilo del encabezado <a id='header_style'></a>\n",
    "Muestra los encabezados de la tabla (los nombres de las columnas):"
   ]
  },
  {
   "cell_type": "code",
   "execution_count": 5,
   "metadata": {
    "id": "oKOTdF_Q_Zct"
   },
   "outputs": [
    {
     "name": "stdout",
     "output_type": "stream",
     "text": [
      "Index(['  userID', 'Track', 'artist', 'genre', '  City  ', 'time', 'Day'], dtype='object')\n"
     ]
    }
   ],
   "source": [
    "# Muestra los nombres de las columnas\n",
    "import pandas as pd\n",
    "df = pd.read_csv(\"/datasets/music_project_en.csv\")\n",
    "print(df.columns)\n"
   ]
  },
  {
   "cell_type": "markdown",
   "metadata": {},
   "source": [
    "<div class=\"alert alert-block alert-warning\">\n",
    "<b>Comentario del revisor</b> <a class=\"tocSkip\"></a><br />\n",
    "Ya se había leido el dataset anteriormente, no es necesario volver a leerlo\n",
    "</div>\n"
   ]
  },
  {
   "cell_type": "markdown",
   "metadata": {
    "id": "zj5534cv_Zct"
   },
   "source": [
    "Cambia los encabezados de la tabla de acuerdo con las reglas del buen estilo:\n",
    "* Todos los caracteres deben ser minúsculas.\n",
    "* Elimina los espacios.\n",
    "* Si el nombre tiene varias palabras, utiliza snake_case."
   ]
  },
  {
   "cell_type": "markdown",
   "metadata": {
    "id": "Xu0zkfe5zNJe"
   },
   "source": [
    "Anteriormente, aprendiste acerca de la forma automática de cambiar el nombre de las columnas. Vamos a aplicarla ahora. Utiliza el bucle for para iterar sobre los nombres de las columnas y poner todos los caracteres en minúsculas. Cuando hayas terminado, vuelve a mostrar los encabezados de la tabla:"
   ]
  },
  {
   "cell_type": "code",
   "execution_count": 6,
   "metadata": {
    "id": "6I_RwwMhzM4e"
   },
   "outputs": [
    {
     "name": "stdout",
     "output_type": "stream",
     "text": [
      "Index(['  userid', 'track', 'artist', 'genre', '  city  ', 'time', 'day'], dtype='object')\n"
     ]
    }
   ],
   "source": [
    "# Bucle en los encabezados poniendo todo en minúsculas\n",
    "\n",
    "new_names = []  #creamos lista vacía para guardar los nombres limpios\n",
    "\n",
    "for old_name in df.columns:\n",
    "    name_lowered = old_name.lower()\n",
    "    new_names.append(name_lowered)\n",
    "    \n",
    "df.columns = new_names\n",
    "print(df.columns)\n"
   ]
  },
  {
   "cell_type": "markdown",
   "metadata": {
    "id": "pweIRxjSzPYW"
   },
   "source": [
    "Ahora, utilizando el mismo método, elimina los espacios al principio y al final de los nombres de las columnas e imprime los nombres de las columnas nuevamente:"
   ]
  },
  {
   "cell_type": "code",
   "execution_count": 7,
   "metadata": {
    "id": "vVQXbFyJzSYl"
   },
   "outputs": [
    {
     "name": "stdout",
     "output_type": "stream",
     "text": [
      "Index(['userid', 'track', 'artist', 'genre', 'city', 'time', 'day'], dtype='object')\n"
     ]
    }
   ],
   "source": [
    "# Bucle en los encabezados eliminando los espacios\n",
    "\n",
    "new_names = []  #creamos lista vacía para guardar los nombres limpios\n",
    "\n",
    "for old_name in df.columns:\n",
    "    name_lowered = old_name.lower()\n",
    "    name_stripped = name_lowered.strip()\n",
    "    \n",
    "    new_names.append(name_stripped)\n",
    "    \n",
    "df.columns = new_names\n",
    "print(df.columns)\n",
    "\n",
    "\n"
   ]
  },
  {
   "cell_type": "markdown",
   "metadata": {
    "id": "yCb8MW1JzURd"
   },
   "source": [
    "Necesitamos aplicar la regla de snake_case a la columna `userid`. Debe ser `user_id`. Cambia el nombre de esta columna y muestra los nombres de todas las columnas cuando hayas terminado."
   ]
  },
  {
   "cell_type": "code",
   "execution_count": 8,
   "metadata": {
    "id": "ISlFqs5y_Zct"
   },
   "outputs": [
    {
     "name": "stdout",
     "output_type": "stream",
     "text": [
      "Index(['user_id', 'track', 'artist', 'genre', 'city', 'time', 'day'], dtype='object')\n"
     ]
    }
   ],
   "source": [
    "# Cambiar el nombre de la columna \"userid\"\n",
    "new_names = []  #creamos lista vacía para guardar los nombres limpios\n",
    "\n",
    "for old_name in df.columns:\n",
    "    name_lowered = old_name.lower()\n",
    "    name_stripped = name_lowered.strip()\n",
    "    name_snake = name_stripped.replace(\"userid\",\"user_id\")\n",
    "    \n",
    "    new_names.append(name_snake)\n",
    "    \n",
    "df.columns = new_names\n",
    "print(df.columns)\n"
   ]
  },
  {
   "cell_type": "markdown",
   "metadata": {
    "id": "1dqbh00J_Zct"
   },
   "source": [
    "Comprueba el resultado. Muestra los encabezados una vez más:"
   ]
  },
  {
   "cell_type": "code",
   "execution_count": 9,
   "metadata": {
    "id": "d4NOAmTW_Zct"
   },
   "outputs": [
    {
     "name": "stdout",
     "output_type": "stream",
     "text": [
      "Index(['user_id', 'track', 'artist', 'genre', 'city', 'time', 'day'], dtype='object')\n"
     ]
    }
   ],
   "source": [
    "# Comprobar el resultado: la lista de encabezados\n",
    "print(df.columns)\n"
   ]
  },
  {
   "cell_type": "markdown",
   "metadata": {},
   "source": [
    "<div class=\"alert alert-block alert-success\">\n",
    "<b>Comentario del revisor</b> <a class=\"tocSkip\"></a><br />\n",
    "Correcto, buena manera de corregir y reemplazar los nombres de las columnas\n",
    "</div>\n"
   ]
  },
  {
   "cell_type": "markdown",
   "metadata": {
    "id": "xYJk6ksJVpOl"
   },
   "source": [
    "[Volver a Contenidos](#back)"
   ]
  },
  {
   "cell_type": "markdown",
   "metadata": {
    "id": "5ISfbcfY_Zct"
   },
   "source": [
    "### Valores ausentes <a id='missing_values'></a>\n",
    " Primero, encuentra el número de valores ausentes en la tabla. Debes utilizar dos métodos en una secuencia para obtener el número de valores ausentes."
   ]
  },
  {
   "cell_type": "code",
   "execution_count": 10,
   "metadata": {
    "id": "RskX29qr_Zct"
   },
   "outputs": [
    {
     "name": "stdout",
     "output_type": "stream",
     "text": [
      "user_id       0\n",
      "track      1343\n",
      "artist     7567\n",
      "genre      1198\n",
      "city          0\n",
      "time          0\n",
      "day           0\n",
      "dtype: int64\n"
     ]
    }
   ],
   "source": [
    "# Calcular el número de valores ausentes\n",
    "print(df.isna().sum())"
   ]
  },
  {
   "cell_type": "markdown",
   "metadata": {
    "id": "qubhgnlO_Zct"
   },
   "source": [
    "No todos los valores ausentes afectan a la investigación. Por ejemplo, los valores ausentes en `track` y `artist` no son cruciales. Simplemente puedes reemplazarlos con valores predeterminados como el string `'unknown'` (desconocido).\n",
    "\n",
    "Pero los valores ausentes en `'genre'` pueden afectar la comparación entre las preferencias musicales de Springfield y Shelbyville. En la vida real, sería útil saber las razones por las cuales hay datos ausentes e intentar recuperarlos. Pero no tenemos esa oportunidad en este proyecto. Así que tendrás que:\n",
    "* rellenar estos valores ausentes con un valor predeterminado;\n",
    "* evaluar cuánto podrían afectar los valores ausentes a tus cómputos;"
   ]
  },
  {
   "cell_type": "markdown",
   "metadata": {
    "id": "fSv2laPA_Zct"
   },
   "source": [
    "Reemplazar los valores ausentes en las columnas `'track'`, `'artist'` y `'genre'` con el string `'unknown'`. Como mostramos anteriormente en las lecciones, la mejor forma de hacerlo es crear una lista que almacene los nombres de las columnas donde se necesita el reemplazo. Luego, utiliza esta lista e itera sobre las columnas donde se necesita el reemplazo haciendo el propio reemplazo."
   ]
  },
  {
   "cell_type": "code",
   "execution_count": 11,
   "metadata": {
    "id": "KplB5qWs_Zct"
   },
   "outputs": [],
   "source": [
    "# Bucle en los encabezados reemplazando los valores ausentes con 'unknown'\n",
    "columns_to_replace = [\"track\", \"artist\", \"genre\"] #creamos lista con los nombres de columnas donde queremos reemplazar valores ausentes\n",
    "for column in columns_to_replace: #bucle for que itera sobre las columnas indicadas en la lista y hace el remplazo\n",
    "    df[column].fillna(\"unknown\", inplace = True) #reemplaza valores ausentes en columnas track, artist y genre con \"unknown\"\n"
   ]
  },
  {
   "cell_type": "markdown",
   "metadata": {
    "id": "Ilsm-MZo_Zct"
   },
   "source": [
    "Ahora comprueba el resultado para asegurarte de que después del reemplazo no haya valores ausentes en el conjunto de datos. Para hacer esto, cuenta los valores ausentes nuevamente."
   ]
  },
  {
   "cell_type": "code",
   "execution_count": 12,
   "metadata": {
    "id": "Tq4nYRX4_Zct"
   },
   "outputs": [
    {
     "name": "stdout",
     "output_type": "stream",
     "text": [
      "user_id    0\n",
      "track      0\n",
      "artist     0\n",
      "genre      0\n",
      "city       0\n",
      "time       0\n",
      "day        0\n",
      "dtype: int64\n"
     ]
    }
   ],
   "source": [
    "# Contar valores ausentes\n",
    "print(df.isna().sum()) #ya no hay valores ausentes"
   ]
  },
  {
   "cell_type": "markdown",
   "metadata": {},
   "source": [
    "<div class=\"alert alert-block alert-success\">\n",
    "<b>Comentario del revisor</b> <a class=\"tocSkip\"></a><br />\n",
    "Correcto, buena manera de reemplazar los valores ausentes en el dataframe\n",
    "</div>"
   ]
  },
  {
   "cell_type": "markdown",
   "metadata": {
    "id": "74ZIBmq9VrsK"
   },
   "source": [
    "[Volver a Contenidos](#back)"
   ]
  },
  {
   "cell_type": "markdown",
   "metadata": {
    "id": "BWKRtBJ3_Zct"
   },
   "source": [
    "### Duplicados <a id='duplicates'></a>\n",
    "Encuentra el número de duplicados explícitos en la tabla. Una vez más, debes aplicar dos métodos en una secuencia para obtener la cantidad de duplicados explícitos."
   ]
  },
  {
   "cell_type": "code",
   "execution_count": 13,
   "metadata": {
    "id": "36eES_S0_Zct"
   },
   "outputs": [
    {
     "name": "stdout",
     "output_type": "stream",
     "text": [
      "3826\n"
     ]
    }
   ],
   "source": [
    "# Contar duplicados explícitos\n",
    "print(df.duplicated().sum())\n"
   ]
  },
  {
   "cell_type": "markdown",
   "metadata": {
    "id": "Ot25h6XR_Zct"
   },
   "source": [
    "Ahora, elimina todos los duplicados. Para ello, llama al método que hace exactamente esto."
   ]
  },
  {
   "cell_type": "code",
   "execution_count": 14,
   "metadata": {
    "id": "exFHq6tt_Zct"
   },
   "outputs": [],
   "source": [
    "# Eliminar duplicados explícitos\n",
    "df = df.drop_duplicates()"
   ]
  },
  {
   "cell_type": "markdown",
   "metadata": {},
   "source": [
    "<div class=\"alert alert-block alert-success\">\n",
    "<b>Comentario del revisor</b> <a class=\"tocSkip\"></a><br />\n",
    "Correcto, buena manera de eliminar los duplicados, otra manera de lograrlo es esta:\n",
    "\n",
    "```\n",
    "df.drop_duplicates(inplace = True)\n",
    "```\n",
    "\n",
    "De esta manera el dataframe guarda los cambios en si mismo en lugar de utilizar el signo de igualdad (=)\n",
    "</div>"
   ]
  },
  {
   "cell_type": "markdown",
   "metadata": {
    "id": "Im2YwBEG_Zct"
   },
   "source": [
    "Comprobemos ahora si eliminamos con éxito todos los duplicados. Cuenta los duplicados explícitos una vez más para asegurarte de haberlos eliminado todos:"
   ]
  },
  {
   "cell_type": "code",
   "execution_count": 15,
   "metadata": {
    "id": "-8PuNWQ0_Zct"
   },
   "outputs": [
    {
     "name": "stdout",
     "output_type": "stream",
     "text": [
      "0\n"
     ]
    }
   ],
   "source": [
    "# Comprobar de nuevo si hay duplicados\n",
    "print(df.duplicated().sum()) #ya no hay duplicados\n"
   ]
  },
  {
   "cell_type": "markdown",
   "metadata": {},
   "source": [
    "<div class=\"alert alert-block alert-success\">\n",
    "<b>Comentario del revisor</b> <a class=\"tocSkip\"></a><br />\n",
    "Correcto, buena manera de eliminar los duplicados explicitos\n",
    "</div>"
   ]
  },
  {
   "cell_type": "markdown",
   "metadata": {
    "id": "QlFBsxAr_Zct"
   },
   "source": [
    "Ahora queremos deshacernos de los duplicados implícitos en la columna `genre`. Por ejemplo, el nombre de un género se puede escribir de varias formas. Dichos errores también pueden afectar al resultado."
   ]
  },
  {
   "cell_type": "markdown",
   "metadata": {
    "id": "eSjWwsOh_Zct"
   },
   "source": [
    "Para hacerlo, primero mostremos una lista de nombres de género únicos, ordenados en orden alfabético. Para ello:\n",
    "* Extrae la columna `genre` del DataFrame.\n",
    "* Llama al método que devolverá todos los valores únicos en la columna extraída.\n"
   ]
  },
  {
   "cell_type": "code",
   "execution_count": 16,
   "metadata": {
    "id": "JIUcqzZN_Zct"
   },
   "outputs": [
    {
     "name": "stdout",
     "output_type": "stream",
     "text": [
      "['acid', 'acoustic', 'action', 'adult', 'africa', 'afrikaans', 'alternative', 'ambient', 'americana', 'animated', 'anime', 'arabesk', 'arabic', 'arena', 'argentinetango', 'art', 'audiobook', 'avantgarde', 'axé', 'baile', 'balkan', 'beats', 'bigroom', 'black', 'bluegrass', 'blues', 'bollywood', 'bossa', 'brazilian', 'breakbeat', 'breaks', 'broadway', 'cantautori', 'cantopop', 'canzone', 'caribbean', 'caucasian', 'celtic', 'chamber', 'children', 'chill', 'chinese', 'choral', 'christian', 'christmas', 'classical', 'classicmetal', 'club', 'colombian', 'comedy', 'conjazz', 'contemporary', 'country', 'cuban', 'dance', 'dancehall', 'dancepop', 'dark', 'death', 'deep', 'deutschrock', 'deutschspr', 'dirty', 'disco', 'dnb', 'documentary', 'downbeat', 'downtempo', 'drum', 'dub', 'dubstep', 'eastern', 'easy', 'electronic', 'electropop', 'emo', 'entehno', 'epicmetal', 'estrada', 'ethnic', 'eurofolk', 'european', 'experimental', 'extrememetal', 'fado', 'film', 'fitness', 'flamenco', 'folk', 'folklore', 'folkmetal', 'folkrock', 'folktronica', 'forró', 'frankreich', 'französisch', 'french', 'funk', 'future', 'gangsta', 'garage', 'german', 'ghazal', 'gitarre', 'glitch', 'gospel', 'gothic', 'grime', 'grunge', 'gypsy', 'handsup', \"hard'n'heavy\", 'hardcore', 'hardstyle', 'hardtechno', 'hip', 'hip-hop', 'hiphop', 'historisch', 'holiday', 'hop', 'horror', 'house', 'idm', 'independent', 'indian', 'indie', 'indipop', 'industrial', 'inspirational', 'instrumental', 'international', 'irish', 'jam', 'japanese', 'jazz', 'jewish', 'jpop', 'jungle', 'k-pop', 'karadeniz', 'karaoke', 'kayokyoku', 'korean', 'laiko', 'latin', 'latino', 'leftfield', 'local', 'lounge', 'loungeelectronic', 'lovers', 'malaysian', 'mandopop', 'marschmusik', 'meditative', 'mediterranean', 'melodic', 'metal', 'metalcore', 'mexican', 'middle', 'minimal', 'miscellaneous', 'modern', 'mood', 'mpb', 'muslim', 'native', 'neoklassik', 'neue', 'new', 'newage', 'newwave', 'nu', 'nujazz', 'numetal', 'oceania', 'old', 'opera', 'orchestral', 'other', 'piano', 'pop', 'popelectronic', 'popeurodance', 'post', 'posthardcore', 'postrock', 'power', 'progmetal', 'progressive', 'psychedelic', 'punjabi', 'punk', 'quebecois', 'ragga', 'ram', 'rancheras', 'rap', 'rave', 'reggae', 'reggaeton', 'regional', 'relax', 'religious', 'retro', 'rhythm', 'rnb', 'rnr', 'rock', 'rockabilly', 'romance', 'roots', 'ruspop', 'rusrap', 'rusrock', 'salsa', 'samba', 'schlager', 'self', 'sertanejo', 'shoegazing', 'showtunes', 'singer', 'ska', 'slow', 'smooth', 'soul', 'soulful', 'sound', 'soundtrack', 'southern', 'specialty', 'speech', 'spiritual', 'sport', 'stonerrock', 'surf', 'swing', 'synthpop', 'sängerportrait', 'tango', 'tanzorchester', 'taraftar', 'tech', 'techno', 'thrash', 'top', 'traditional', 'tradjazz', 'trance', 'tribal', 'trip', 'triphop', 'tropical', 'türk', 'türkçe', 'unknown', 'urban', 'uzbek', 'variété', 'vi', 'videogame', 'vocal', 'western', 'world', 'worldbeat', 'ïîï']\n"
     ]
    }
   ],
   "source": [
    "# Inspeccionar los nombres de géneros únicos\n",
    "\n",
    "unique_genres = df[\"genre\"].unique()\n",
    "unique_genres_sorted = sorted(unique_genres)\n",
    "\n",
    "# Imprimir los géneros únicos ordenados\n",
    "print(unique_genres_sorted)\n"
   ]
  },
  {
   "cell_type": "markdown",
   "metadata": {
    "id": "qej-Qmuo_Zct"
   },
   "source": [
    "Busca en la lista para encontrar duplicados implícitos del género `hiphop`. Estos pueden ser nombres escritos incorrectamente o nombres alternativos para el mismo género.\n",
    "\n",
    "Verás los siguientes duplicados implícitos:\n",
    "* `hip`\n",
    "* `hop`\n",
    "* `hip-hop`\n",
    "\n",
    "Para deshacerte de ellos, crea una función llamada `replace_wrong_genres()` con dos parámetros:\n",
    "* `wrong_genres=`: esta es una lista que contiene todos los valores que necesitas reemplazar.\n",
    "* `correct_genre=`: este es un string que vas a utilizar como reemplazo.\n",
    "\n",
    "Como resultado, la función debería corregir los nombres en la columna `'genre'` de la tabla `df`, es decir, remplazar cada valor de la lista `wrong_genres` por el valor en `correct_genre`.\n",
    "\n",
    "Dentro del cuerpo de la función, utiliza un bucle `'for'` para iterar sobre la lista de géneros incorrectos, extrae la columna `'genre'` y aplica el método `replace` para hacer correcciones."
   ]
  },
  {
   "cell_type": "code",
   "execution_count": 17,
   "metadata": {
    "id": "ErNDkmns_Zct"
   },
   "outputs": [],
   "source": [
    "# Función para reemplazar duplicados implícitos\n",
    "\n",
    "def replace_wrong_genres(wrong_genres,correct_genre):\n",
    "    for wrong_genre in wrong_genres:\n",
    "        df[\"genre\"] = df[\"genre\"].replace(wrong_genre,correct_genre)\n",
    "        \n",
    "wrong_genres = [\"hip\", \"hop\", \"hip-hop\"]\n",
    "correct_genre = \"hiphop\"\n",
    "        \n"
   ]
  },
  {
   "cell_type": "markdown",
   "metadata": {
    "id": "aDoBJxbA_Zct"
   },
   "source": [
    "Ahora, llama a `replace_wrong_genres()` y pásale tales argumentos para que retire los duplicados implícitos (`hip`, `hop` y `hip-hop`) y los reemplace por `hiphop`:"
   ]
  },
  {
   "cell_type": "code",
   "execution_count": 18,
   "metadata": {
    "id": "YN5i2hpmSo09"
   },
   "outputs": [],
   "source": [
    "# Eliminar duplicados implícitos\n",
    "replace_wrong_genres(wrong_genres,correct_genre)"
   ]
  },
  {
   "cell_type": "markdown",
   "metadata": {
    "id": "zQKF16_RG15m"
   },
   "source": [
    "Asegúrate de que los nombres duplicados han sido eliminados. Muestra la lista de valores únicos de la columna `'genre'` una vez más:"
   ]
  },
  {
   "cell_type": "code",
   "execution_count": 19,
   "metadata": {
    "id": "wvixALnFG15m"
   },
   "outputs": [
    {
     "name": "stdout",
     "output_type": "stream",
     "text": [
      "['acid', 'acoustic', 'action', 'adult', 'africa', 'afrikaans', 'alternative', 'ambient', 'americana', 'animated', 'anime', 'arabesk', 'arabic', 'arena', 'argentinetango', 'art', 'audiobook', 'avantgarde', 'axé', 'baile', 'balkan', 'beats', 'bigroom', 'black', 'bluegrass', 'blues', 'bollywood', 'bossa', 'brazilian', 'breakbeat', 'breaks', 'broadway', 'cantautori', 'cantopop', 'canzone', 'caribbean', 'caucasian', 'celtic', 'chamber', 'children', 'chill', 'chinese', 'choral', 'christian', 'christmas', 'classical', 'classicmetal', 'club', 'colombian', 'comedy', 'conjazz', 'contemporary', 'country', 'cuban', 'dance', 'dancehall', 'dancepop', 'dark', 'death', 'deep', 'deutschrock', 'deutschspr', 'dirty', 'disco', 'dnb', 'documentary', 'downbeat', 'downtempo', 'drum', 'dub', 'dubstep', 'eastern', 'easy', 'electronic', 'electropop', 'emo', 'entehno', 'epicmetal', 'estrada', 'ethnic', 'eurofolk', 'european', 'experimental', 'extrememetal', 'fado', 'film', 'fitness', 'flamenco', 'folk', 'folklore', 'folkmetal', 'folkrock', 'folktronica', 'forró', 'frankreich', 'französisch', 'french', 'funk', 'future', 'gangsta', 'garage', 'german', 'ghazal', 'gitarre', 'glitch', 'gospel', 'gothic', 'grime', 'grunge', 'gypsy', 'handsup', \"hard'n'heavy\", 'hardcore', 'hardstyle', 'hardtechno', 'hiphop', 'historisch', 'holiday', 'horror', 'house', 'idm', 'independent', 'indian', 'indie', 'indipop', 'industrial', 'inspirational', 'instrumental', 'international', 'irish', 'jam', 'japanese', 'jazz', 'jewish', 'jpop', 'jungle', 'k-pop', 'karadeniz', 'karaoke', 'kayokyoku', 'korean', 'laiko', 'latin', 'latino', 'leftfield', 'local', 'lounge', 'loungeelectronic', 'lovers', 'malaysian', 'mandopop', 'marschmusik', 'meditative', 'mediterranean', 'melodic', 'metal', 'metalcore', 'mexican', 'middle', 'minimal', 'miscellaneous', 'modern', 'mood', 'mpb', 'muslim', 'native', 'neoklassik', 'neue', 'new', 'newage', 'newwave', 'nu', 'nujazz', 'numetal', 'oceania', 'old', 'opera', 'orchestral', 'other', 'piano', 'pop', 'popelectronic', 'popeurodance', 'post', 'posthardcore', 'postrock', 'power', 'progmetal', 'progressive', 'psychedelic', 'punjabi', 'punk', 'quebecois', 'ragga', 'ram', 'rancheras', 'rap', 'rave', 'reggae', 'reggaeton', 'regional', 'relax', 'religious', 'retro', 'rhythm', 'rnb', 'rnr', 'rock', 'rockabilly', 'romance', 'roots', 'ruspop', 'rusrap', 'rusrock', 'salsa', 'samba', 'schlager', 'self', 'sertanejo', 'shoegazing', 'showtunes', 'singer', 'ska', 'slow', 'smooth', 'soul', 'soulful', 'sound', 'soundtrack', 'southern', 'specialty', 'speech', 'spiritual', 'sport', 'stonerrock', 'surf', 'swing', 'synthpop', 'sängerportrait', 'tango', 'tanzorchester', 'taraftar', 'tech', 'techno', 'thrash', 'top', 'traditional', 'tradjazz', 'trance', 'tribal', 'trip', 'triphop', 'tropical', 'türk', 'türkçe', 'unknown', 'urban', 'uzbek', 'variété', 'vi', 'videogame', 'vocal', 'western', 'world', 'worldbeat', 'ïîï']\n"
     ]
    }
   ],
   "source": [
    "# Comprobación de duplicados implícitos\n",
    "unique_genres = df[\"genre\"].unique()\n",
    "unique_sorted_genres = sorted(unique_genres)\n",
    "print(unique_sorted_genres)\n"
   ]
  },
  {
   "cell_type": "markdown",
   "metadata": {
    "id": "ALgNbvF3VtPA"
   },
   "source": [
    "[Volver a Contenidos](#back)"
   ]
  },
  {
   "cell_type": "markdown",
   "metadata": {
    "id": "jz6a9-7HQUDd"
   },
   "source": [
    "### Tus observaciones <a id='data_preprocessing_conclusions'></a>\n",
    "\n",
    "`Describe brevemente lo que has notado al analizar duplicados, cómo abordaste sus eliminaciones y qué resultados obtuviste.`\n",
    "\n",
    "Al analizar las columnas y aplicar print(df.duplicated().sum()) notamos que inicialmente habían 3826 filas exactamente iguales. Después de eliminar estas, filtramos el data frame por \"genre\" (género musical) y buscamos duplicados implícitos no tan obvios o identificables a simple vista contando el número de valores únicos. Vemos que hay una lista muy grande, y procesamos únicamente el género hiphop. Para ello buscamos strings similares como hip,hop & hip-hop y creamos una función, donde usamos un bucle for que itera y recorre cada fila en la columna \"genre\" y donde encuentra el string \"hip\", \"hop\" o \"hip-hop\" lo reemplaza por \"hiphop\". "
   ]
  },
  {
   "cell_type": "markdown",
   "metadata": {},
   "source": [
    "<div class=\"alert alert-block alert-success\">\n",
    "<b>Comentario del revisor</b> <a class=\"tocSkip\"></a><br />\n",
    "Correcto, se eliminaron los duplicados explicitos de manera adecuada y los duplicados implicitos se reemplazaron por un valor estandarizado, los duplicados implicitos por lo general son más difíciles de encontrar debido a que se requiere contexto/conocimiento de los datos que se estan analizando, bien hecho\n",
    "</div>"
   ]
  },
  {
   "cell_type": "markdown",
   "metadata": {
    "id": "eK1es74rVujj"
   },
   "source": [
    "[Volver a Contenidos](#back)"
   ]
  },
  {
   "cell_type": "markdown",
   "metadata": {
    "id": "WttZHXH0SqKk"
   },
   "source": [
    "## Etapa 3. Prueba de hipótesis <a id='hypothesis'></a>"
   ]
  },
  {
   "cell_type": "markdown",
   "metadata": {
    "id": "Im936VVi_Zcu"
   },
   "source": [
    "### Hipótesis: comparar el comportamiento del usuario o la usuaria en las dos ciudades <a id='activity'></a>"
   ]
  },
  {
   "cell_type": "markdown",
   "metadata": {
    "id": "nwt_MuaL_Zcu"
   },
   "source": [
    "La hipótesis afirma que existen diferencias en la forma en que los usuarios y las usuarias de Springfield y Shelbyville consumen música. Para comprobar esto, usa los datos de tres días de la semana: lunes, miércoles y viernes.\n",
    "\n",
    "* Agrupa a los usuarios y las usuarias por ciudad.\n",
    "* Compara el número de canciones que cada grupo reprodujo el lunes, el miércoles y el viernes.\n"
   ]
  },
  {
   "cell_type": "markdown",
   "metadata": {
    "id": "8Dw_YMmT_Zcu"
   },
   "source": [
    "Realiza cada cálculo por separado.\n",
    "\n",
    "El primer paso es evaluar la actividad del usuario en cada ciudad. Recuerda las etapas dividir-aplicar-combinar de las que hablamos anteriormente en la lección. Tu objetivo ahora es agrupar los datos por ciudad, aplicar el método apropiado para contar durante la etapa de aplicación y luego encontrar la cantidad de canciones reproducidas en cada grupo especificando la columna para obtener el recuento.\n",
    "\n",
    "A continuación se muestra un ejemplo de cómo debería verse el resultado final:\n",
    "`df.groupby(by='....')['column'].method()`Realiza cada cálculo por separado.\n",
    "\n",
    "Para evaluar la actividad de los usuarios y las usuarias en cada ciudad, agrupa los datos por ciudad y encuentra la cantidad de canciones reproducidas en cada grupo.\n",
    "\n"
   ]
  },
  {
   "cell_type": "code",
   "execution_count": 21,
   "metadata": {
    "id": "0_Qs96oh_Zcu"
   },
   "outputs": [
    {
     "name": "stdout",
     "output_type": "stream",
     "text": [
      "<class 'pandas.core.frame.DataFrame'>\n",
      "Int64Index: 61253 entries, 0 to 65078\n",
      "Data columns (total 7 columns):\n",
      " #   Column   Non-Null Count  Dtype \n",
      "---  ------   --------------  ----- \n",
      " 0   user_id  61253 non-null  object\n",
      " 1   track    61253 non-null  object\n",
      " 2   artist   61253 non-null  object\n",
      " 3   genre    61253 non-null  object\n",
      " 4   city     61253 non-null  object\n",
      " 5   time     61253 non-null  object\n",
      " 6   day      61253 non-null  object\n",
      "dtypes: object(7)\n",
      "memory usage: 3.7+ MB\n",
      "Canciones reproducidas en cada ciudad\n",
      "city\n",
      "Shelbyville    18512\n",
      "Springfield    42741\n",
      "Name: day, dtype: int64\n",
      "\n"
     ]
    },
    {
     "data": {
      "text/plain": [
       "61253"
      ]
     },
     "execution_count": 21,
     "metadata": {},
     "output_type": "execute_result"
    }
   ],
   "source": [
    "# Contar las canciones reproducidas en cada ciudad\n",
    "\n",
    "df.info() #queremos ver cuántas filas tenemos después de quitar los duplicados y procesar valores ausentes\n",
    "print(\"Canciones reproducidas en cada ciudad\")\n",
    "print(df.groupby(by=\"city\")[\"day\"].count())  # agrupamos las entradas por ciudad, \n",
    "print()\n",
    "18512+42741 "
   ]
  },
  {
   "cell_type": "markdown",
   "metadata": {
    "id": "t_Qx-3NewAnK"
   },
   "source": [
    "`Comenta tus observaciones aquí`\n",
    "\n",
    "Vemos que después de haber procesado los duplicados y valores ausentes tenemos un total de 61,253 filas. Después de agrupar las canciones reproducidas por ciudad vemos que Springfield concentra un mayor número de canciones reproducidas."
   ]
  },
  {
   "cell_type": "markdown",
   "metadata": {
    "id": "dzli3w8o_Zcu"
   },
   "source": [
    "Ahora agrupemos los datos por día de la semana y encontremos el número de canciones reproducidas el lunes, miércoles y viernes. Utiliza el mismo método que antes, pero ahora necesitamos una agrupación diferente.\n"
   ]
  },
  {
   "cell_type": "code",
   "execution_count": 22,
   "metadata": {
    "id": "uZMKjiJz_Zcu"
   },
   "outputs": [
    {
     "name": "stdout",
     "output_type": "stream",
     "text": [
      "Días de reproducción\n",
      "['Wednesday' 'Friday' 'Monday']\n",
      "\n",
      "day\n",
      "Friday       21840\n",
      "Monday       21354\n",
      "Wednesday    18059\n",
      "Name: city, dtype: int64\n"
     ]
    }
   ],
   "source": [
    "# Calcular las canciones reproducidas en cada uno de los tres días\n",
    "print(\"Días de reproducción\")\n",
    "print(df[\"day\"].unique()) #verificamos cuántos valores unicos hay en la columna \"day\"\n",
    "print()\n",
    "print(df.groupby(\"day\")[\"city\"].count()) #agrupamos de acuerdo a los valores en la columna \"day\" y contar el numero de veces que se reproduce en cada fila de \"city\"\n",
    "\n"
   ]
  },
  {
   "cell_type": "markdown",
   "metadata": {
    "id": "cC2tNrlL_Zcu"
   },
   "source": [
    "`Comenta tus observaciones aquí`\n",
    "Podemos notar que la mayoría de canciones se repdorucen en viernes, luego lunes y por último miércoles. "
   ]
  },
  {
   "cell_type": "markdown",
   "metadata": {},
   "source": [
    "<div class=\"alert alert-block alert-success\">\n",
    "<b>Comentario del revisor</b> <a class=\"tocSkip\"></a><br />\n",
    "Correcto, buena manera de agrupar los datos, buenas observaciones y correcta manera de describir e interpretar los hallazgos\n",
    "</div>"
   ]
  },
  {
   "cell_type": "markdown",
   "metadata": {
    "id": "POzs8bGa_Zcu"
   },
   "source": [
    "Ya sabes cómo contar entradas agrupándolas por ciudad o día. Ahora necesitas escribir una función que pueda contar entradas según ambos criterios simultáneamente.\n",
    "\n",
    "Crea la función `number_tracks()` para calcular el número de canciones reproducidas en un determinado día **y** ciudad. La función debe aceptar dos parámetros:\n",
    "\n",
    "- `day`: un día de la semana para filtrar. Por ejemplo, `'Monday'` (lunes).\n",
    "- `city`: una ciudad para filtrar. Por ejemplo, `'Springfield'`.\n",
    "\n",
    "Dentro de la función, aplicarás un filtrado consecutivo con indexación lógica.\n",
    "\n",
    "Primero filtra los datos por día y luego filtra la tabla resultante por ciudad.\n",
    "\n",
    "Después de filtrar los datos por dos criterios, cuenta el número de valores de la columna 'user_id' en la tabla resultante. Este recuento representa el número de entradas que estás buscando. Guarda el resultado en una nueva variable y devuélvelo desde la función."
   ]
  },
  {
   "cell_type": "code",
   "execution_count": 23,
   "metadata": {
    "id": "Nz3GdQB1_Zcu"
   },
   "outputs": [],
   "source": [
    "# Declara la función number_tracks() con dos parámetros: day= y city=.\n",
    "def number_tracks(day, city):\n",
    "    \n",
    "    # Almacena las filas del DataFrame donde el valor en la columna 'day' es igual al parámetro day=\n",
    "    day_filter = df[df[\"day\"] == day]\n",
    "    # Filtra las filas donde el valor en la columna 'city' es igual al parámetro city=\n",
    "    city_filter = day_filter[day_filter[\"city\"] == city]\n",
    "    # Extrae la columna 'user_id' de la tabla filtrada y aplica el método count()\n",
    "    user_id_count = city_filter[\"user_id\"].count()\n",
    "\n",
    "    # Devolve el número de valores de la columna 'user_id'\n",
    "    return user_id_count"
   ]
  },
  {
   "cell_type": "markdown",
   "metadata": {
    "id": "ytf7xFrFJQ2r"
   },
   "source": [
    "Llama a `number_tracks()` seis veces, cambiando los valores de los parámetros para que recuperes los datos de ambas ciudades para cada uno de los tres días."
   ]
  },
  {
   "cell_type": "code",
   "execution_count": 24,
   "metadata": {
    "id": "rJcRATNQ_Zcu"
   },
   "outputs": [
    {
     "name": "stdout",
     "output_type": "stream",
     "text": [
      "15740\n"
     ]
    }
   ],
   "source": [
    "# El número de canciones reproducidas en Springfield el lunes\n",
    "\n",
    "springfield_monday = number_tracks(\"Monday\", \"Springfield\")\n",
    "print(springfield_monday)"
   ]
  },
  {
   "cell_type": "code",
   "execution_count": 25,
   "metadata": {
    "id": "hq_ncZ5T_Zcu"
   },
   "outputs": [
    {
     "name": "stdout",
     "output_type": "stream",
     "text": [
      "5614\n"
     ]
    }
   ],
   "source": [
    "# El número de canciones reproducidas en Shelbyville el lunes\n",
    "shelbyville_monday = number_tracks(\"Monday\", \"Shelbyville\")\n",
    "print(shelbyville_monday)\n"
   ]
  },
  {
   "cell_type": "code",
   "execution_count": 26,
   "metadata": {
    "id": "_NTy2VPU_Zcu"
   },
   "outputs": [
    {
     "name": "stdout",
     "output_type": "stream",
     "text": [
      "11056\n"
     ]
    }
   ],
   "source": [
    "# El número de canciones reproducidas en Springfield el miércoles\n",
    "springfield_wednesday = number_tracks(\"Wednesday\", \"Springfield\")\n",
    "print(springfield_wednesday)"
   ]
  },
  {
   "cell_type": "code",
   "execution_count": 27,
   "metadata": {
    "id": "j2y3TAwo_Zcu"
   },
   "outputs": [
    {
     "name": "stdout",
     "output_type": "stream",
     "text": [
      "7003\n"
     ]
    }
   ],
   "source": [
    "# El número de canciones reproducidas en Shelbyville el miércoles\n",
    "shelbyville_wednesday = number_tracks(\"Wednesday\", \"Shelbyville\")\n",
    "print(shelbyville_wednesday)\n"
   ]
  },
  {
   "cell_type": "code",
   "execution_count": 28,
   "metadata": {
    "id": "vYDw5u_K_Zcu"
   },
   "outputs": [
    {
     "name": "stdout",
     "output_type": "stream",
     "text": [
      "15945\n"
     ]
    }
   ],
   "source": [
    "# El número de canciones reproducidas en Springfield el viernes\n",
    "springfield_friday = number_tracks(\"Friday\", \"Springfield\")\n",
    "print(springfield_friday)"
   ]
  },
  {
   "cell_type": "code",
   "execution_count": 29,
   "metadata": {
    "id": "8_yzFtW3_Zcu"
   },
   "outputs": [
    {
     "name": "stdout",
     "output_type": "stream",
     "text": [
      "5895\n"
     ]
    }
   ],
   "source": [
    "# El número de canciones reproducidas en Shelbyville el viernes\n",
    "shelbyville_friday = number_tracks(\"Friday\", \"Shelbyville\")\n",
    "print(shelbyville_friday)\n"
   ]
  },
  {
   "cell_type": "markdown",
   "metadata": {},
   "source": [
    "<div class=\"alert alert-block alert-success\">\n",
    "<b>Comentario del revisor</b> <a class=\"tocSkip\"></a><br />\n",
    "Correcto, la función que has creado agrupa adecuadamente los datos, bien hecho\n",
    "</div>"
   ]
  },
  {
   "cell_type": "markdown",
   "metadata": {
    "id": "-EgPIHYu_Zcu"
   },
   "source": [
    "**Conclusiones**\n",
    "\n",
    "`Comenta si la hipótesis es correcta o se debe rechazar. Explica tu razonamiento.`\n",
    "\n",
    "Inicialmente, al agrupar las entradas por ciudad vimos que existen muchos más registros para Springfield que para Shelbyville. De hecho más del doble. \n",
    "Shelbyville    18512\n",
    "Springfield    42741 \n",
    "Al usar la función y agrupar por día y ciudad simultáneamente, identificamos que la mayoría de canciones se reproducen en Springield los viernes (15,945), luego en Springfield los lunes (15,740) y luego Springfield los miercoles(11,056). En Shelbyville, el día cuando más canciones se reproducen son los miércoles (7,003), luego los viernes (5,895) y al último los lunes (5,614). La hipótesis afirma que \"existen diferencias en la forma en que los usuarios y las usuarias de Springfield y Shelbyville consumen música.\" De entrada, esta hipótesis se puede aceptar parcialmente ya que en efecto, a partir del conjunto de datos análisados vemos que existen diferencias sustanciales en las formas de consumir música en ambas ciudades. Primero por el hecho de que en Springfiels el día con más reproducciones son los viernes vs los miércoles y el día donde menos se consume música son los miércoles vs los lunes respectivamente. Sin embargo, esto no es suficiente para afirmar al 100% la hipótesis ya que el conjunto de datos concentra una mayor cantidad de datos para Springfield que para Shelbyville, por lo que los datos estàn sesgados. Para tener una estimación y un análisis más acertado de la realidad, sería conveniente tener una muestra con las mismas observaciones para ambas ciudades. \n"
   ]
  },
  {
   "cell_type": "markdown",
   "metadata": {},
   "source": [
    "<div class=\"alert alert-block alert-success\">\n",
    "<b>Comentario del revisor</b> <a class=\"tocSkip\"></a><br />\n",
    "Haces buenas observaciones en tu conclusión, estoy de acuerdo en los puntos que expresas, aunque me gustaría agregar que no sabemos por que hay diferencía en la cantidad de datos, puede ser que una ciudad es más grande que la otra o simplemente hay más usuarios alla, hay más preguntas que respuestas, es un hecho que se necesitan más datos para aceptar una hipotesis como esta. Aunque también debemos aceptar que este es un ejercicio simple y que en un ejercicio real puede que tengamos más oportunidades de responder a las preguntas más profundamente.\n",
    "\n",
    "</div>\n"
   ]
  },
  {
   "cell_type": "markdown",
   "metadata": {
    "id": "p7nFQajCVw5B"
   },
   "source": [
    "[Volver a Contenidos](#back)"
   ]
  },
  {
   "cell_type": "markdown",
   "metadata": {
    "id": "ykKQ0N65_Zcv"
   },
   "source": [
    "# Conclusiones <a id='end'></a>"
   ]
  },
  {
   "cell_type": "markdown",
   "metadata": {
    "id": "tjUwbHb3_Zcv"
   },
   "source": [
    "`Resume aquí tus conclusiones sobre la hipótesis.`\n",
    "\n",
    "A partir del análisis realizado, podemos aceptar solo parcialmente la hipótesis ya que el conjunto de datos está sesgado y no es lo suficientemente representativo para ambas ciudades. "
   ]
  },
  {
   "cell_type": "markdown",
   "metadata": {
    "id": "azLHu64yOIp7"
   },
   "source": [
    "### Nota\n",
    "En proyectos de investigación reales, la prueba de hipótesis estadística es más precisa y cuantitativa. También ten en cuenta que no siempre se pueden sacar conclusiones sobre una ciudad entera a partir de datos de una sola fuente.\n",
    "\n",
    "Aprenderás más sobre la prueba de hipótesis en el sprint de análisis estadístico de datos."
   ]
  },
  {
   "cell_type": "markdown",
   "metadata": {},
   "source": [
    "<div class=\"alert alert-block alert-success\">\n",
    "<b>Comentario del revisor</b> <a class=\"tocSkip\"></a><br />\n",
    "Has realizado un buen trabajo, me doy cuenta de que has aplicado los conocimientos que has adquirido durante el curso, las conclusiones a las que llegaste son buenas y los procedimientos realizados son correctos, la hipotesis se puede decir que es cierta en este caso limitado de datos, si tuvieramos más datos acerca de las poblaciones como bien mencionas, tendriamos oportunidad de llegar a conclusiones más certeras.<br/>\n",
    "\n",
    "Continúa con el buen trabajo y mucho éxito en el siguiente Sprint!\n",
    "\n",
    "</div>\n"
   ]
  },
  {
   "cell_type": "markdown",
   "metadata": {
    "id": "Ju4AHDSgV1FE"
   },
   "source": [
    "[Volver a Contenidos](#back)"
   ]
  }
 ],
 "metadata": {
  "ExecuteTimeLog": [
   {
    "duration": 315,
    "start_time": "2024-10-02T03:55:51.808Z"
   },
   {
    "duration": 5,
    "start_time": "2024-10-02T03:55:54.892Z"
   },
   {
    "duration": 181,
    "start_time": "2024-10-02T03:56:04.085Z"
   },
   {
    "duration": 13,
    "start_time": "2024-10-02T03:56:19.449Z"
   },
   {
    "duration": 126,
    "start_time": "2024-10-02T03:56:45.569Z"
   },
   {
    "duration": 8,
    "start_time": "2024-10-02T03:57:03.357Z"
   },
   {
    "duration": 14,
    "start_time": "2024-10-02T03:57:24.826Z"
   },
   {
    "duration": 22,
    "start_time": "2024-10-02T03:57:36.558Z"
   },
   {
    "duration": 20,
    "start_time": "2024-10-02T03:57:41.633Z"
   },
   {
    "duration": 13,
    "start_time": "2024-10-02T03:57:48.968Z"
   },
   {
    "duration": 22,
    "start_time": "2024-10-02T03:57:54.129Z"
   },
   {
    "duration": 160,
    "start_time": "2024-10-03T02:24:51.087Z"
   },
   {
    "duration": 441,
    "start_time": "2024-10-03T02:25:57.712Z"
   },
   {
    "duration": 108,
    "start_time": "2024-10-03T02:26:31.890Z"
   },
   {
    "duration": 4,
    "start_time": "2024-10-03T02:30:57.896Z"
   },
   {
    "duration": 4,
    "start_time": "2024-10-03T02:31:20.557Z"
   },
   {
    "duration": 119,
    "start_time": "2024-10-03T02:31:38.963Z"
   },
   {
    "duration": 95,
    "start_time": "2024-10-03T02:32:20.178Z"
   },
   {
    "duration": 4,
    "start_time": "2024-10-03T02:32:49.152Z"
   },
   {
    "duration": 5,
    "start_time": "2024-10-03T02:35:36.174Z"
   },
   {
    "duration": 3,
    "start_time": "2024-10-03T02:35:52.569Z"
   },
   {
    "duration": 3,
    "start_time": "2024-10-03T02:37:48.423Z"
   },
   {
    "duration": 4,
    "start_time": "2024-10-03T02:37:57.457Z"
   },
   {
    "duration": 5,
    "start_time": "2024-10-03T02:39:49.974Z"
   },
   {
    "duration": 4,
    "start_time": "2024-10-03T02:40:22.364Z"
   },
   {
    "duration": 3,
    "start_time": "2024-10-03T02:40:30.758Z"
   },
   {
    "duration": 98,
    "start_time": "2024-10-03T02:40:38.429Z"
   },
   {
    "duration": 4,
    "start_time": "2024-10-03T02:40:55.576Z"
   },
   {
    "duration": 4,
    "start_time": "2024-10-03T02:41:38.723Z"
   },
   {
    "duration": 35,
    "start_time": "2024-10-03T02:42:36.037Z"
   },
   {
    "duration": 3,
    "start_time": "2024-10-03T02:46:42.145Z"
   },
   {
    "duration": 7,
    "start_time": "2024-10-03T02:47:13.928Z"
   },
   {
    "duration": 21,
    "start_time": "2024-10-03T02:48:07.018Z"
   },
   {
    "duration": 12,
    "start_time": "2024-10-03T02:53:10.753Z"
   },
   {
    "duration": 27,
    "start_time": "2024-10-03T02:53:33.786Z"
   },
   {
    "duration": 20,
    "start_time": "2024-10-03T02:55:57.752Z"
   },
   {
    "duration": 45,
    "start_time": "2024-10-03T02:56:40.790Z"
   },
   {
    "duration": 46,
    "start_time": "2024-10-03T02:57:10.229Z"
   },
   {
    "duration": 53,
    "start_time": "2024-10-03T02:57:21.038Z"
   },
   {
    "duration": 90,
    "start_time": "2024-10-03T02:57:48.012Z"
   },
   {
    "duration": 47,
    "start_time": "2024-10-03T02:58:00.880Z"
   },
   {
    "duration": 46,
    "start_time": "2024-10-03T02:58:03.162Z"
   },
   {
    "duration": 6,
    "start_time": "2024-10-03T03:02:24.884Z"
   },
   {
    "duration": 5,
    "start_time": "2024-10-03T03:03:46.795Z"
   },
   {
    "duration": 14,
    "start_time": "2024-10-03T03:04:54.487Z"
   },
   {
    "duration": 15,
    "start_time": "2024-10-03T03:05:56.861Z"
   },
   {
    "duration": 15,
    "start_time": "2024-10-03T03:11:37.826Z"
   },
   {
    "duration": 5,
    "start_time": "2024-10-03T03:11:44.248Z"
   },
   {
    "duration": 21,
    "start_time": "2024-10-03T03:12:52.553Z"
   },
   {
    "duration": 6,
    "start_time": "2024-10-03T03:13:08.790Z"
   },
   {
    "duration": 21,
    "start_time": "2024-10-03T03:13:54.101Z"
   },
   {
    "duration": 20,
    "start_time": "2024-10-03T03:14:27.718Z"
   },
   {
    "duration": 6,
    "start_time": "2024-10-03T03:14:34.296Z"
   },
   {
    "duration": 23,
    "start_time": "2024-10-03T03:14:57.326Z"
   },
   {
    "duration": 6,
    "start_time": "2024-10-03T03:15:46.994Z"
   },
   {
    "duration": 15,
    "start_time": "2024-10-03T03:16:46.916Z"
   },
   {
    "duration": 6,
    "start_time": "2024-10-03T03:18:18.955Z"
   },
   {
    "duration": 15,
    "start_time": "2024-10-03T03:32:17.100Z"
   },
   {
    "duration": 9,
    "start_time": "2024-10-03T03:32:55.137Z"
   },
   {
    "duration": 9,
    "start_time": "2024-10-03T03:33:22.547Z"
   },
   {
    "duration": 6,
    "start_time": "2024-10-03T03:34:24.500Z"
   },
   {
    "duration": 3,
    "start_time": "2024-10-03T03:35:33.631Z"
   },
   {
    "duration": 6,
    "start_time": "2024-10-03T03:35:41.844Z"
   },
   {
    "duration": 3,
    "start_time": "2024-10-03T03:36:23.378Z"
   },
   {
    "duration": 8,
    "start_time": "2024-10-03T03:36:25.856Z"
   },
   {
    "duration": 6,
    "start_time": "2024-10-03T03:36:28.208Z"
   },
   {
    "duration": 157,
    "start_time": "2024-10-03T19:07:51.496Z"
   },
   {
    "duration": 272,
    "start_time": "2024-10-03T19:08:04.176Z"
   },
   {
    "duration": 149,
    "start_time": "2024-10-03T19:08:06.227Z"
   },
   {
    "duration": 7,
    "start_time": "2024-10-03T19:08:08.247Z"
   },
   {
    "duration": 21,
    "start_time": "2024-10-03T19:08:11.560Z"
   },
   {
    "duration": 94,
    "start_time": "2024-10-03T19:08:16.373Z"
   },
   {
    "duration": 3,
    "start_time": "2024-10-03T19:08:19.182Z"
   },
   {
    "duration": 4,
    "start_time": "2024-10-03T19:08:21.582Z"
   },
   {
    "duration": 5,
    "start_time": "2024-10-03T19:08:24.140Z"
   },
   {
    "duration": 3,
    "start_time": "2024-10-03T19:08:26.273Z"
   },
   {
    "duration": 19,
    "start_time": "2024-10-03T19:08:28.563Z"
   },
   {
    "duration": 14,
    "start_time": "2024-10-03T19:08:31.608Z"
   },
   {
    "duration": 9,
    "start_time": "2024-10-03T19:08:34.289Z"
   },
   {
    "duration": 17,
    "start_time": "2024-10-03T19:08:41.112Z"
   },
   {
    "duration": 41,
    "start_time": "2024-10-03T19:08:43.981Z"
   },
   {
    "duration": 50,
    "start_time": "2024-10-03T19:08:46.518Z"
   },
   {
    "duration": 38,
    "start_time": "2024-10-03T19:08:49.095Z"
   },
   {
    "duration": 6,
    "start_time": "2024-10-03T19:08:51.773Z"
   },
   {
    "duration": 3,
    "start_time": "2024-10-03T19:08:57.518Z"
   },
   {
    "duration": 8,
    "start_time": "2024-10-03T19:08:59.588Z"
   },
   {
    "duration": 6,
    "start_time": "2024-10-03T19:09:02.446Z"
   },
   {
    "duration": 34,
    "start_time": "2024-10-03T19:09:13.497Z"
   },
   {
    "duration": 11,
    "start_time": "2024-10-03T19:09:51.823Z"
   },
   {
    "duration": 11,
    "start_time": "2024-10-03T19:10:09.244Z"
   },
   {
    "duration": 5,
    "start_time": "2024-10-03T19:11:14.485Z"
   },
   {
    "duration": 9,
    "start_time": "2024-10-03T19:11:22.260Z"
   },
   {
    "duration": 13,
    "start_time": "2024-10-03T19:11:31.242Z"
   },
   {
    "duration": 27,
    "start_time": "2024-10-03T19:13:02.112Z"
   },
   {
    "duration": 12,
    "start_time": "2024-10-03T19:13:10.121Z"
   },
   {
    "duration": 9,
    "start_time": "2024-10-03T19:13:40.375Z"
   },
   {
    "duration": 22,
    "start_time": "2024-10-03T19:14:05.709Z"
   },
   {
    "duration": 5,
    "start_time": "2024-10-03T19:14:20.804Z"
   },
   {
    "duration": 27,
    "start_time": "2024-10-03T19:14:34.767Z"
   },
   {
    "duration": 26,
    "start_time": "2024-10-03T19:14:56.027Z"
   },
   {
    "duration": 198,
    "start_time": "2024-10-03T19:15:47.890Z"
   },
   {
    "duration": 27,
    "start_time": "2024-10-03T19:17:21.920Z"
   },
   {
    "duration": 27,
    "start_time": "2024-10-03T19:18:25.433Z"
   },
   {
    "duration": 9,
    "start_time": "2024-10-03T19:18:53.779Z"
   },
   {
    "duration": 11,
    "start_time": "2024-10-03T19:19:05.933Z"
   },
   {
    "duration": 25,
    "start_time": "2024-10-03T19:19:14.753Z"
   },
   {
    "duration": 27,
    "start_time": "2024-10-03T19:19:25.237Z"
   },
   {
    "duration": 26,
    "start_time": "2024-10-03T19:20:00.428Z"
   },
   {
    "duration": 8,
    "start_time": "2024-10-03T19:23:32.648Z"
   },
   {
    "duration": 22,
    "start_time": "2024-10-03T19:23:48.873Z"
   },
   {
    "duration": 14,
    "start_time": "2024-10-03T19:24:02.179Z"
   },
   {
    "duration": 9,
    "start_time": "2024-10-03T19:24:09.140Z"
   },
   {
    "duration": 14,
    "start_time": "2024-10-03T19:27:08.757Z"
   },
   {
    "duration": 15,
    "start_time": "2024-10-03T19:28:35.534Z"
   },
   {
    "duration": 14,
    "start_time": "2024-10-03T19:28:47.583Z"
   },
   {
    "duration": 19,
    "start_time": "2024-10-03T19:28:58.813Z"
   },
   {
    "duration": 16,
    "start_time": "2024-10-03T19:30:06.124Z"
   },
   {
    "duration": 18,
    "start_time": "2024-10-03T19:30:12.226Z"
   },
   {
    "duration": 16,
    "start_time": "2024-10-03T19:30:39.718Z"
   },
   {
    "duration": 3,
    "start_time": "2024-10-03T19:32:13.721Z"
   },
   {
    "duration": 4,
    "start_time": "2024-10-03T19:32:17.018Z"
   },
   {
    "duration": 21,
    "start_time": "2024-10-03T19:32:22.713Z"
   },
   {
    "duration": 16,
    "start_time": "2024-10-03T19:32:40.912Z"
   },
   {
    "duration": 15,
    "start_time": "2024-10-03T19:33:00.604Z"
   },
   {
    "duration": 6,
    "start_time": "2024-10-03T19:33:05.307Z"
   },
   {
    "duration": 21,
    "start_time": "2024-10-03T19:33:26.215Z"
   },
   {
    "duration": 24,
    "start_time": "2024-10-03T19:33:34.943Z"
   },
   {
    "duration": 16,
    "start_time": "2024-10-03T19:34:10.022Z"
   },
   {
    "duration": 17,
    "start_time": "2024-10-03T19:34:19.372Z"
   },
   {
    "duration": 155,
    "start_time": "2024-10-03T19:35:53.392Z"
   },
   {
    "duration": 13,
    "start_time": "2024-10-03T19:36:01.615Z"
   },
   {
    "duration": 3,
    "start_time": "2024-10-03T19:53:01.835Z"
   },
   {
    "duration": 4,
    "start_time": "2024-10-03T19:53:11.251Z"
   },
   {
    "duration": 11,
    "start_time": "2024-10-03T19:54:17.316Z"
   },
   {
    "duration": 14,
    "start_time": "2024-10-03T19:55:02.347Z"
   },
   {
    "duration": 16,
    "start_time": "2024-10-03T19:56:28.905Z"
   },
   {
    "duration": 8,
    "start_time": "2024-10-03T19:56:34.707Z"
   },
   {
    "duration": 9,
    "start_time": "2024-10-03T20:01:04.649Z"
   },
   {
    "duration": 7,
    "start_time": "2024-10-03T20:01:06.542Z"
   },
   {
    "duration": 7,
    "start_time": "2024-10-03T20:01:09.148Z"
   },
   {
    "duration": 7,
    "start_time": "2024-10-03T20:01:12.139Z"
   },
   {
    "duration": 17,
    "start_time": "2024-10-03T20:01:14.614Z"
   },
   {
    "duration": 7,
    "start_time": "2024-10-03T20:01:30.594Z"
   },
   {
    "duration": 13,
    "start_time": "2024-10-03T20:04:14.244Z"
   },
   {
    "duration": 11,
    "start_time": "2024-10-03T20:04:30.543Z"
   },
   {
    "duration": 12,
    "start_time": "2024-10-03T20:04:40.468Z"
   },
   {
    "duration": 12,
    "start_time": "2024-10-03T20:04:42.896Z"
   },
   {
    "duration": 14,
    "start_time": "2024-10-03T20:04:46.151Z"
   },
   {
    "duration": 13,
    "start_time": "2024-10-03T20:04:47.858Z"
   },
   {
    "duration": 273,
    "start_time": "2024-10-04T07:22:28.314Z"
   },
   {
    "duration": 113,
    "start_time": "2024-10-04T07:22:31.433Z"
   },
   {
    "duration": 7,
    "start_time": "2024-10-04T07:22:33.195Z"
   },
   {
    "duration": 22,
    "start_time": "2024-10-04T07:22:37.281Z"
   },
   {
    "duration": 92,
    "start_time": "2024-10-04T07:23:58.858Z"
   },
   {
    "duration": 3,
    "start_time": "2024-10-04T07:24:34.556Z"
   },
   {
    "duration": 4,
    "start_time": "2024-10-04T07:24:53.054Z"
   },
   {
    "duration": 4,
    "start_time": "2024-10-04T07:24:56.120Z"
   },
   {
    "duration": 3,
    "start_time": "2024-10-04T07:25:01.628Z"
   },
   {
    "duration": 17,
    "start_time": "2024-10-04T07:25:07.031Z"
   },
   {
    "duration": 11,
    "start_time": "2024-10-04T07:25:10.137Z"
   },
   {
    "duration": 17,
    "start_time": "2024-10-04T07:25:15.998Z"
   },
   {
    "duration": 43,
    "start_time": "2024-10-04T07:25:29.700Z"
   },
   {
    "duration": 47,
    "start_time": "2024-10-04T07:25:35.547Z"
   },
   {
    "duration": 39,
    "start_time": "2024-10-04T07:26:43.558Z"
   },
   {
    "duration": 6,
    "start_time": "2024-10-04T07:26:58.409Z"
   },
   {
    "duration": 3,
    "start_time": "2024-10-04T07:29:32.038Z"
   },
   {
    "duration": 8,
    "start_time": "2024-10-04T07:29:37.279Z"
   },
   {
    "duration": 6,
    "start_time": "2024-10-04T07:29:42.675Z"
   },
   {
    "duration": 11,
    "start_time": "2024-10-04T07:29:56.406Z"
   },
   {
    "duration": 26,
    "start_time": "2024-10-04T07:30:56.971Z"
   },
   {
    "duration": 11,
    "start_time": "2024-10-04T07:31:16.141Z"
   },
   {
    "duration": 3,
    "start_time": "2024-10-04T07:31:29.516Z"
   },
   {
    "duration": 12,
    "start_time": "2024-10-04T07:31:39.203Z"
   },
   {
    "duration": 11,
    "start_time": "2024-10-04T07:31:39.674Z"
   },
   {
    "duration": 10,
    "start_time": "2024-10-04T07:31:39.891Z"
   },
   {
    "duration": 12,
    "start_time": "2024-10-04T07:31:40.096Z"
   },
   {
    "duration": 13,
    "start_time": "2024-10-04T07:31:40.312Z"
   },
   {
    "duration": 11,
    "start_time": "2024-10-04T07:31:41.095Z"
   }
  ],
  "colab": {
   "collapsed_sections": [
    "E0vqbgi9ay0H",
    "VUC88oWjTJw2"
   ],
   "provenance": []
  },
  "kernelspec": {
   "display_name": "Python 3 (ipykernel)",
   "language": "python",
   "name": "python3"
  },
  "language_info": {
   "codemirror_mode": {
    "name": "ipython",
    "version": 3
   },
   "file_extension": ".py",
   "mimetype": "text/x-python",
   "name": "python",
   "nbconvert_exporter": "python",
   "pygments_lexer": "ipython3",
   "version": "3.9.19"
  },
  "toc": {
   "base_numbering": 1,
   "nav_menu": {},
   "number_sections": true,
   "sideBar": true,
   "skip_h1_title": true,
   "title_cell": "Table of Contents",
   "title_sidebar": "Contents",
   "toc_cell": false,
   "toc_position": {},
   "toc_section_display": true,
   "toc_window_display": false
  }
 },
 "nbformat": 4,
 "nbformat_minor": 1
}
